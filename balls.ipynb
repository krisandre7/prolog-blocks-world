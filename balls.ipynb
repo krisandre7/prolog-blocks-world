{
 "cells": [
  {
   "cell_type": "code",
   "execution_count": 1,
   "metadata": {
    "vscode": {
     "languageId": "prolog"
    }
   },
   "outputs": [
    {
     "data": {
      "text/plain": [
       "% Asserting clauses for user:objeto/1\n"
      ]
     },
     "metadata": {},
     "output_type": "display_data"
    }
   ],
   "source": [
    "% X is an objeto if X is a place or a block\n",
    "objeto(X) :-\n",
    "    place(X)\n",
    "    ;\n",
    "    block(X)."
   ]
  },
  {
   "cell_type": "code",
   "execution_count": 2,
   "metadata": {
    "vscode": {
     "languageId": "prolog"
    }
   },
   "outputs": [
    {
     "data": {
      "text/plain": [
       "% Asserting clauses for user:can/2\n"
      ]
     },
     "metadata": {},
     "output_type": "display_data"
    },
    {
     "data": {
      "text/plain": [
       "% Asserting clauses for user:adds/2\n"
      ]
     },
     "metadata": {},
     "output_type": "display_data"
    },
    {
     "data": {
      "text/plain": [
       "% Asserting clauses for user:deletes/2\n"
      ]
     },
     "metadata": {},
     "output_type": "display_data"
    }
   ],
   "source": [
    "% Definition of action move(Block, From, To) in world of blocks\n",
    "% can(Action, Condition): Action possible if Condition is true\n",
    "can(move(Block, From, To), [clear(Block), clear(To), on(Block, From)]) :-\n",
    "    block(Block), % Block is a block\n",
    "    objeto(To), % 'To' is a block or a place\n",
    "    To \\== Block, % Block cannot be moved to itself\n",
    "    object(ToFrom), % 'From' is a block or a place\n",
    "    From \\== To, % Move to new position\n",
    "    Block \\== From. % Block not moved from itself\n",
    "\n",
    "% adds( Action, Relationships): Action establishes relationships\n",
    "adds(move(X, From, To), [on(X, To), clear(From)]).\n",
    "\n",
    "% deletes(Action, Relationships): Action destroys Relationships\n",
    "deletes(move(X, From, To), [on(X, From), clear(To)])."
   ]
  },
  {
   "cell_type": "markdown",
   "metadata": {},
   "source": [
    "### Initial State"
   ]
  },
  {
   "cell_type": "markdown",
   "metadata": {},
   "source": [
    "A possible representation for a state in the blocks world. The numbers represent places in the table and the letters represent blocks.\n",
    "```\n",
    "c \n",
    "a   b \n",
    "-------\n",
    "1 2 3 4\n",
    "```"
   ]
  },
  {
   "cell_type": "code",
   "execution_count": 3,
   "metadata": {
    "vscode": {
     "languageId": "prolog"
    }
   },
   "outputs": [
    {
     "data": {
      "text/plain": [
       "% Asserting clauses for user:block/1\n"
      ]
     },
     "metadata": {},
     "output_type": "display_data"
    },
    {
     "data": {
      "text/plain": [
       "% Asserting clauses for user:place/1\n"
      ]
     },
     "metadata": {},
     "output_type": "display_data"
    },
    {
     "data": {
      "text/plain": [
       "% Asserting clauses for user:state1/1\n"
      ]
     },
     "metadata": {},
     "output_type": "display_data"
    }
   ],
   "source": [
    "block(a).\n",
    "block(b).\n",
    "block(c).\n",
    "place(1).\n",
    "place(2).\n",
    "place(3).\n",
    "place(4).\n",
    "\n",
    "state1([clear(2),clear(4),clear(b),clear(c),on(a,1),on(b,3),on(c,a)]).\n"
   ]
  },
  {
   "cell_type": "code",
   "execution_count": 4,
   "metadata": {
    "vscode": {
     "languageId": "prolog"
    }
   },
   "outputs": [
    {
     "data": {
      "text/plain": [
       "\u001b[1mBlock = a"
      ]
     },
     "metadata": {},
     "output_type": "display_data"
    }
   ],
   "source": [
    "?- can(move(b, 3, c), [clear(b), clear(c), on(b, 3)])"
   ]
  },
  {
   "cell_type": "code",
   "execution_count": 7,
   "metadata": {
    "vscode": {
     "languageId": "prolog"
    }
   },
   "outputs": [
    {
     "data": {
      "text/plain": [
       "% Retrying goal: block(Block)\n"
      ]
     },
     "metadata": {},
     "output_type": "display_data"
    },
    {
     "data": {
      "text/plain": [
       "\u001b[1;31mfalse"
      ]
     },
     "metadata": {},
     "output_type": "display_data"
    }
   ],
   "source": [
    "?-retry."
   ]
  }
 ],
 "metadata": {
  "kernelspec": {
   "display_name": "Prolog",
   "language": "prolog",
   "name": "prolog_kernel"
  },
  "language_info": {
   "codemirror_mode": "prolog",
   "file_extension": ".pl",
   "mimetype": "text/x-prolog",
   "name": "Prolog"
  },
  "orig_nbformat": 4
 },
 "nbformat": 4,
 "nbformat_minor": 2
}
